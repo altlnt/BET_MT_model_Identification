{
 "cells": [
  {
   "cell_type": "code",
   "execution_count": 1,
   "id": "a17424f3-6dbf-4e21-b92d-e946a5610905",
   "metadata": {},
   "outputs": [],
   "source": [
    "import pandas as pd\n",
    "import numpy as np\n",
    "import matplotlib.pyplot as plt\n",
    "import transforms3d as tf3d"
   ]
  },
  {
   "cell_type": "markdown",
   "id": "955e88b6-f980-485e-8d99-a436eeb2a2ef",
   "metadata": {},
   "source": [
    "# Generating body acc, grad ned acc, grad body acc"
   ]
  },
  {
   "cell_type": "code",
   "execution_count": 2,
   "id": "0e6a9980-0526-4d44-a167-ca1bf916869f",
   "metadata": {},
   "outputs": [],
   "source": [
    "\n",
    "def gen_grad_acc(df):\n",
    "    \n",
    "    df3=df\n",
    "    \n",
    "    acc_ned_grad=np.zeros((len(df3),3))\n",
    "\n",
    "    acc_ned_grad[:,0]=np.diff(df3['speed[0]'],append=0)/np.diff(df3[\"t\"],append=4e-3)\n",
    "\n",
    "    acc_ned_grad[:,0]=np.array([i  if abs(i)<30 else 0 for i in acc_ned_grad[:,0]])\n",
    "\n",
    "    acc_ned_grad[:,1]=np.diff(df3['speed[1]'],append=0)/np.diff(df3[\"t\"],append=4e-3)\n",
    "\n",
    "    acc_ned_grad[:,1]=np.array([i  if abs(i)<30 else 0 for i in acc_ned_grad[:,1]])\n",
    "\n",
    "\n",
    "    acc_ned_grad[:,2]=np.diff(df3['speed[2]'],append=0)/np.diff(df3[\"t\"],append=4e-3)\n",
    "\n",
    "    acc_ned_grad[:,2]=np.array([i  if abs(i)<30 else 0 for i in acc_ned_grad[:,2]])\n",
    "\n",
    "    acc_body_grad=np.zeros((len(df3),3))\n",
    "\n",
    "    for i in df3.index:\n",
    "        q0,q1,q2,q3=df3[\"q[0]\"][i],df3[\"q[1]\"][i],df3[\"q[2]\"][i],df3[\"q[3]\"][i]\n",
    "    #     print(i,q0,q1,q2,q3)\n",
    "        R=tf3d.quaternions.quat2mat(np.array([q0,q1,q2,q3]))\n",
    "        acc_body_grad[i]=R.T@(acc_ned_grad[i].reshape((3,1))).flatten()\n",
    "        \n",
    "\n",
    "    R_array=np.array([tf3d.quaternions.quat2mat([i,j,k,l]) for i,j,k,l in zip(df['q[0]'],df['q[1]'],df['q[2]'],df['q[3]'])])\n",
    "    v_ned_array=np.array([df['speed[%i]'%(i)] for i in range(3)]).T\n",
    "    v_body_array=np.array([(i.T@(j.T)).T for i,j in zip(R_array,v_ned_array)])\n",
    "    gamma_array=np.array([(i.T@(np.array([0,0,9.81]).T)).T for i in R_array])\n",
    "\n",
    "\n",
    "\n",
    "    df3['acc_ned_grad[0]'],df3['acc_ned_grad[1]'],df3['acc_ned_grad[2]']=acc_ned_grad.T\n",
    "    df3['acc_body_grad[0]'],df3['acc_body_grad[1]'],df3['acc_body_grad[2]']=acc_body_grad.T\n",
    "    \n",
    "    for i in range(3):\n",
    "        df3['speed_body[%i]'%(i)]=v_body_array[:,i]\n",
    "        df3['gamma[%i]'%(i)]=gamma_array[:,i]\n",
    "    return df3\n",
    "\n"
   ]
  },
  {
   "cell_type": "code",
   "execution_count": 3,
   "id": "5f532d1a",
   "metadata": {},
   "outputs": [],
   "source": [
    "log=pd.read_csv('./logs/target/log_real.csv',low_memory=False).astype(float)"
   ]
  },
  {
   "cell_type": "code",
   "execution_count": 4,
   "id": "874702de",
   "metadata": {},
   "outputs": [],
   "source": [
    "log['t']=pd.to_numeric(log['t'])"
   ]
  },
  {
   "cell_type": "code",
   "execution_count": 5,
   "id": "ebf98e7b",
   "metadata": {},
   "outputs": [
    {
     "data": {
      "text/plain": [
       "65517    276.732792\n",
       "65518    276.736842\n",
       "Name: t, dtype: float64"
      ]
     },
     "execution_count": 5,
     "metadata": {},
     "output_type": "execute_result"
    }
   ],
   "source": [
    "log['t'][65517:65521]"
   ]
  },
  {
   "cell_type": "code",
   "execution_count": 6,
   "id": "7b81f2c0",
   "metadata": {},
   "outputs": [],
   "source": [
    "log_processed=gen_grad_acc(log)"
   ]
  },
  {
   "cell_type": "code",
   "execution_count": 7,
   "id": "b6e37ace",
   "metadata": {},
   "outputs": [],
   "source": [
    "log_processed.to_csv('./logs/target/log_real_processed.csv')"
   ]
  }
 ],
 "metadata": {
  "kernelspec": {
   "display_name": "Python 3 (ipykernel)",
   "language": "python",
   "name": "python3"
  },
  "language_info": {
   "codemirror_mode": {
    "name": "ipython",
    "version": 3
   },
   "file_extension": ".py",
   "mimetype": "text/x-python",
   "name": "python",
   "nbconvert_exporter": "python",
   "pygments_lexer": "ipython3",
   "version": "3.8.2"
  }
 },
 "nbformat": 4,
 "nbformat_minor": 5
}

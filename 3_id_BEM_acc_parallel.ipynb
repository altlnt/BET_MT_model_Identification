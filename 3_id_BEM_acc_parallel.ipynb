{
 "cells": [
  {
   "cell_type": "code",
   "execution_count": 1,
   "id": "5ebde363-fdda-4e39-b7e1-3ed8a4fcca8e",
   "metadata": {},
   "outputs": [],
   "source": [
    "import numpy as np\n",
    "import pandas as pd\n",
    "from scipy.optimize import minimize\n",
    "import matplotlib.pyplot as plt\n",
    "import transforms3d as tf3d\n",
    "import matplotlib\n",
    "import scipy.signal\n",
    "import time\n",
    "from numba import jit\n",
    "from scipy.integrate import odeint\n",
    "from scipy.interpolate import interp1d\n",
    "import os\n"
   ]
  },
  {
   "cell_type": "code",
   "execution_count": 2,
   "id": "3695dc39-0fb5-478e-8d7b-4bb8092af569",
   "metadata": {},
   "outputs": [],
   "source": [
    "n_propellers=6\n",
    "\n",
    "\n",
    "mass=369 #batterie\n",
    "mass+=1640-114 #corps-carton\n",
    "mass/=1e3\n",
    "Area=np.pi*(11.0e-02)**2\n",
    "r0=11e-02\n",
    "rho0=1.204\n",
    "kv_motor=800.0\n",
    "pwmmin=1075.0\n",
    "pwmmax=1950.0\n",
    "U_batt=16.8\n",
    "\n",
    "AN=n_propellers*Area\n",
    "b10=14.44"
   ]
  },
  {
   "cell_type": "code",
   "execution_count": 3,
   "id": "e586cdcb-112e-41c6-896e-d1554de00f8d",
   "metadata": {},
   "outputs": [
    {
     "name": "stdout",
     "output_type": "stream",
     "text": [
      "LOADING DATA...\n",
      "PROCESSING DATA...\n"
     ]
    }
   ],
   "source": [
    "# %%   ####### IMPORT DATA \n",
    "print(\"LOADING DATA...\")\n",
    "\n",
    "\n",
    "log_path=\"./logs/target/log_real_processed.csv\"\n",
    "\n",
    "raw_data=pd.read_csv(log_path)\n",
    "\n",
    "print(\"PROCESSING DATA...\")\n",
    "\n",
    "\n",
    "prep_data=raw_data.drop(columns=[i for i in raw_data.keys() if ((\"forces\" in i ) or ('pos' in i) or (\"joy\" in i)) ])\n",
    "prep_data=prep_data.drop(columns=[i for i in raw_data.keys() if ((\"level\" in i ) or ('Unnamed' in i) or (\"index\" in i)) ])\n",
    "# print(prep_data)\n",
    "\n",
    "tmin,tmax=-1,1e10\n",
    "\n",
    "    \n",
    "prep_data=prep_data[prep_data['t']>tmin]\n",
    "prep_data=prep_data[prep_data['t']<tmax]\n",
    "prep_data=prep_data.reset_index()\n",
    "for i in range(3):\n",
    "    prep_data['speed_pred[%i]'%(i)]=np.r_[prep_data['speed[%i]'%(i)].values[1:len(prep_data)],0]\n",
    "    \n",
    "    \n",
    "\n",
    "prep_data['dt']=np.r_[prep_data['t'].values[1:]-prep_data['t'].values[:-1],0]\n",
    "prep_data['t']-=prep_data['t'][0]\n",
    "prep_data=prep_data.drop(index=[0,len(prep_data)-1])\n",
    "\n",
    "\n",
    "for i in range(n_propellers):\n",
    "    prep_data['omega_c[%i]'%(i+1)]=(prep_data['PWM_motor[%i]'%(i+1)]-pwmmin)/(pwmmax-pwmmin)*U_batt*kv_motor*2*np.pi/60\n",
    "\n",
    "R_array=np.array([tf3d.quaternions.quat2mat([i,j,k,l]) for i,j,k,l in zip(prep_data['q[0]'],\n",
    "                                                                          prep_data['q[1]'],\n",
    "                                                                          prep_data['q[2]'],\n",
    "                                                                          prep_data['q[3]'])])\n",
    "\n",
    "vwx_body_dir=np.array([i.T@np.array([[1.0],[0],[0]]) for i in R_array] )\n",
    "vwy_body_dir=np.array([i.T@np.array([[0.0],[1.0],[0]]) for i in R_array] )\n",
    "\n",
    "\n",
    "prep_data['vwx_body_dir']=[i for i in vwx_body_dir.reshape((-1,3))]\n",
    "prep_data['vwy_body_dir']=[i for i in vwy_body_dir.reshape((-1,3))]\n",
    "prep_data['vwx_body_dir']=[i for i in vwx_body_dir.reshape((-1,3))]\n",
    "prep_data['R']=[i for i in R_array]"
   ]
  },
  {
   "cell_type": "code",
   "execution_count": 4,
   "id": "d1e0f187-64fa-41fc-95f7-b8f1dd24b429",
   "metadata": {},
   "outputs": [],
   "source": [
    "# %% Global Optimization ACC\n",
    "\n",
    "def compute_single_motor_thrust_(omega,vai,vaj,vak,c1,c2=0,c3=0,vanilla_test=False):\n",
    "    \n",
    "    if vanilla_test:\n",
    "        T=rho0*Area*r0**2*omega**2*c1\n",
    "        return T\n",
    "    else:\n",
    "        eta=vak/2-r0*omega*c2/4\n",
    "        eta=eta+0.5*np.sqrt((vak+0.5*r0*omega*c2)**2\n",
    "                            +2*c1*r0**2*omega**2+2*c3*(vai**2+vaj**2))\n",
    "\n",
    "        T=rho0*Area*r0*omega*(c1*r0*omega-c2*(eta-vak))+rho0*Area*c3*(vai**2+vaj**2)\n",
    "        return T\n",
    "\n",
    "def compute_omegas(df,kt):\n",
    "    # omegas is shape n timesteps x p actuators \n",
    "    omegas=np.array([df['omega_c[%i]'%(i+1)] for i in range(n_propellers)]).T\n",
    "    \n",
    "    b, a = scipy.signal.butter(1, 1./(2*np.pi)*kt,analog= False,fs=1./2.0/df['dt'].mean())\n",
    "    zi = scipy.signal.lfilter_zi(b, a)\n",
    "    new_omegas, _ =scipy.signal.lfilter(b, a, omegas,axis=0,zi=zi*omegas[0].reshape((1,-1)))\n",
    "    return new_omegas\n",
    "\n",
    "\n",
    "def compute_H(omega,vai,vaj,vak,ch1,ch2,c1=0,c2=0,c3=0,vanilla_test=False):\n",
    "    if vanilla_test:\n",
    "        return np.zeros(omega.shape)\n",
    "    else:\n",
    "        eta=vak/2-r0*omega*c2/4\n",
    "        eta=eta+0.5*np.sqrt((vak+0.5*r0*omega*c2)**2\n",
    "                            +2*c1*r0**2*omega**2+2*c3*(vai**2+vaj**2))\n",
    "        H=rho0*Area*(ch1*r0*omega-ch2*(eta-vak))\n",
    "        return H\n",
    "\n",
    "def compute_acc_identification_globale(ct1,\n",
    "                                       ct2,\n",
    "                                       ch1,\n",
    "                                       ch2,\n",
    "                                       di=0,\n",
    "                                       dj=0,\n",
    "                                       dk=0,\n",
    "                                       df=prep_data,\n",
    "                                       kt=0.0,\n",
    "                                       ct3=0,\n",
    "                                       vwi=0,\n",
    "                                       vwj=0,\n",
    "                                      vanilla=False,\n",
    "                                       dyn_motors=False):\n",
    "    \n",
    "    vw_body=vwi*np.array([i for i in df['vwx_body_dir'].values])+vwj*np.array([i for i in df['vwy_body_dir'].values])\n",
    "    \n",
    "    \n",
    "    vai=df[\"speed_body[0]\"]-vw_body[:,0]\n",
    "    vaj=df[\"speed_body[1]\"]-vw_body[:,1]\n",
    "    vak=df[\"speed_body[2]\"]-vw_body[:,2]\n",
    "    \n",
    "    gammai=df[\"gamma[0]\"]\n",
    "    gammaj=df[\"gamma[1]\"]\n",
    "    gammak=df[\"gamma[2]\"]\n",
    "    \n",
    "    omegas = compute_omegas(df,kt).reshape((len(df),6)) if dyn_motors else np.array([df['omega_c[%i]'%(i+1)] for i in range(n_propellers)]).T\n",
    "    \n",
    "    \n",
    "    T=sum([compute_single_motor_thrust_(omegas[:,i],\n",
    "         vai,vaj,vak,\n",
    "                    ct1,ct2,ct3,vanilla_test=vanilla) for i in range(n_propellers)])\n",
    "    \n",
    "    H=sum([compute_H(omegas[:,i],\n",
    "          vai,vaj,vak,ch1,ch2,\n",
    "                     ct1,ct2,ct3,vanilla_test=vanilla) for i in range(n_propellers)])\n",
    "    \n",
    "    H_vect=np.c_[-vai*H,-vaj*H,np.zeros(H.shape)]\n",
    "    T_vect=np.c_[np.zeros(T.shape),np.zeros(T.shape),T]\n",
    "    \n",
    "    absva=np.sqrt(vai**2+vaj**2+vak**2)\n",
    "    Fa=-rho0*AN*np.c_[di*absva*vai,dj*absva*vaj,dk*absva*vak]\n",
    "\n",
    "    return -T_vect/mass+H_vect/mass+np.c_[gammai,gammaj,gammak]+Fa/mass\n",
    "\n",
    "\n",
    "def cost_global_(X,option_booleans,rms_score=False):\n",
    "    \n",
    "    ct1,ct2,ch1,ch2,di,dj,dk,ct3,kt,vwi,vwj = X\n",
    "\n",
    "    motor_dyn , vanilla , with_c3 , dij , with_wind = option_booleans\n",
    "\n",
    "    ct3 = ct3 if with_c3 else 0\n",
    "    vwi,vwj=(vwi,vwj) if with_wind else (0,0) \n",
    "    dj = di if dij else dj\n",
    "          \n",
    "          \n",
    "    Y=compute_acc_identification_globale(ct1,\n",
    "                                       ct2,\n",
    "                                       ch1,\n",
    "                                       ch2,                                       \n",
    "                                        di=di,\n",
    "                                       dj=dj,\n",
    "                                       dk=dk,\n",
    "                                       kt=kt,\n",
    "                                       ct3=ct3,\n",
    "                                       vwi=vwi,\n",
    "                                       vwj=vwj,\n",
    "                                      vanilla=vanilla,\n",
    "                                       dyn_motors=motor_dyn)\n",
    "          \n",
    "    ci=np.mean((Y[:,0]-prep_data['acc_body_grad[0]'])**2,axis=0)\n",
    "    cj=np.mean((Y[:,1]-prep_data['acc_body_grad[1]'])**2,axis=0)\n",
    "    ck=np.mean((Y[:,2]-prep_data['acc_body_grad[2]'])**2,axis=0)\n",
    "    if rms_score==False:\n",
    "        ci/=max(abs(prep_data['acc_body_grad[0]']))**2\n",
    "        cj/=max(abs(prep_data['acc_body_grad[1]']))**2\n",
    "        ck/=max(abs(prep_data['acc_body_grad[2]']))**2\n",
    "        \n",
    "        \n",
    "        c=ci+cj+ck\n",
    "#         print(\"ct1:%f ct2:%f ch1:%f ch2:%f di:%f dj:%f dk:%f ct3:%f kt:%f vwi:%f vwj:%f cost:%f\"%(ct1,ct2,ch1,ch2,di,dj,dk,ct3,kt,vwi,vwj,c))\n",
    "\n",
    "        return c\n",
    "\n",
    "    else:\n",
    "        score_rms_total=np.mean(np.linalg.norm(Y-np.c_[prep_data['acc_body_grad[0]'],prep_data['acc_body_grad[1]'],prep_data['acc_body_grad[2]']],axis=1))\n",
    "        return np.sqrt([score_rms_total,ci,cj,ck])\n",
    "\n",
    "    \n",
    "    \n",
    "    "
   ]
  },
  {
   "cell_type": "code",
   "execution_count": 5,
   "id": "452ae4f9-c926-499e-b8a0-6f9dfb926257",
   "metadata": {},
   "outputs": [
    {
     "name": "stdout",
     "output_type": "stream",
     "text": [
      "N combinaisons:  24\n"
     ]
    }
   ],
   "source": [
    "\n",
    "params = []\n",
    "\n",
    "for motor_dyn in (True,False):\n",
    "    for vanilla in (True,False):\n",
    "        for with_c3 in (True,False):\n",
    "            for dij in (True,False):\n",
    "                for with_wind in (True,False):\n",
    "                    if not( vanilla and with_c3):\n",
    "                        params.append([motor_dyn , vanilla , with_c3 , dij , with_wind])  \n",
    "                    \n",
    "print(\"N combinaisons: \",len(params))\n",
    "\n",
    "keys_dict_=['ct1,ct2,ch1,ch2,di,dj,dk,ct3,kt,vwi,vwj'.split(',')]\n",
    "\n",
    "\n",
    "X0_id_globale=np.array([0,\n",
    "                        0,\n",
    "                        0,\n",
    "                        0,\n",
    "                        0,\n",
    "                        0,\n",
    "                        0,\n",
    "                        0, #c3\n",
    "                        5.0, #kt\n",
    "                        0, #vwi\n",
    "                        0]) #vwj\n",
    "\n",
    "\n",
    "\n",
    "headers_df = ['motor_dyn,vanilla,with_c3,dij,with_wind'.replace(' ','').split(',')]\n",
    "headers_df = headers_df + ['ct1,ct2,ch1,ch2,di,dj,dk,ct3,kt,vwi,vwj'.replace(' ','').split(',')]\n",
    "headers_df = headers_df + ['score_opti,score_rms,score_x,score_y,score_z,duration'.replace(' ','').split(',')]\n",
    "headers_df = [item for sublist in headers_df for item in sublist]\n"
   ]
  },
  {
   "cell_type": "code",
   "execution_count": 6,
   "id": "1620a225-7b9f-4a5d-8cef-e196b481b247",
   "metadata": {},
   "outputs": [],
   "source": [
    "try:\n",
    "    os.makedirs(os.path.join(\"results\",\"acc\"))\n",
    "except:\n",
    "    pass"
   ]
  },
  {
   "cell_type": "code",
   "execution_count": 7,
   "id": "549c76cb-5ed9-4263-b6c5-e987e521c57c",
   "metadata": {},
   "outputs": [
    {
     "name": "stderr",
     "output_type": "stream",
     "text": [
      "/home/alex/anaconda3/lib/python3.8/site-packages/pandas/core/arraylike.py:364: RuntimeWarning: invalid value encountered in sqrt\n",
      "  result = getattr(ufunc, method)(*inputs, **kwargs)\n",
      "/home/alex/anaconda3/lib/python3.8/site-packages/pandas/core/arraylike.py:364: RuntimeWarning: invalid value encountered in sqrt\n",
      "  result = getattr(ufunc, method)(*inputs, **kwargs)\n",
      "/home/alex/anaconda3/lib/python3.8/site-packages/pandas/core/arraylike.py:364: RuntimeWarning: invalid value encountered in sqrt\n",
      "  result = getattr(ufunc, method)(*inputs, **kwargs)\n",
      "/home/alex/anaconda3/lib/python3.8/site-packages/pandas/core/arraylike.py:364: RuntimeWarning: invalid value encountered in sqrt\n",
      "  result = getattr(ufunc, method)(*inputs, **kwargs)\n",
      "/home/alex/anaconda3/lib/python3.8/site-packages/pandas/core/arraylike.py:364: RuntimeWarning: invalid value encountered in sqrt\n",
      "  result = getattr(ufunc, method)(*inputs, **kwargs)\n",
      "/home/alex/anaconda3/lib/python3.8/site-packages/pandas/core/arraylike.py:364: RuntimeWarning: invalid value encountered in sqrt\n",
      "  result = getattr(ufunc, method)(*inputs, **kwargs)\n"
     ]
    },
    {
     "name": "stdout",
     "output_type": "stream",
     "text": [
      "[True, False, True, True, False] Done...\n"
     ]
    },
    {
     "name": "stderr",
     "output_type": "stream",
     "text": [
      "/home/alex/anaconda3/lib/python3.8/site-packages/pandas/core/arraylike.py:364: RuntimeWarning: invalid value encountered in sqrt\n",
      "  result = getattr(ufunc, method)(*inputs, **kwargs)\n",
      "/home/alex/anaconda3/lib/python3.8/site-packages/pandas/core/arraylike.py:364: RuntimeWarning: invalid value encountered in sqrt\n",
      "  result = getattr(ufunc, method)(*inputs, **kwargs)\n"
     ]
    },
    {
     "name": "stdout",
     "output_type": "stream",
     "text": [
      "[True, False, True, True, True] Done...\n"
     ]
    },
    {
     "name": "stderr",
     "output_type": "stream",
     "text": [
      "/home/alex/anaconda3/lib/python3.8/site-packages/pandas/core/arraylike.py:364: RuntimeWarning: invalid value encountered in sqrt\n",
      "  result = getattr(ufunc, method)(*inputs, **kwargs)\n",
      "/home/alex/anaconda3/lib/python3.8/site-packages/pandas/core/arraylike.py:364: RuntimeWarning: invalid value encountered in sqrt\n",
      "  result = getattr(ufunc, method)(*inputs, **kwargs)\n",
      "/home/alex/anaconda3/lib/python3.8/site-packages/pandas/core/arraylike.py:364: RuntimeWarning: invalid value encountered in sqrt\n",
      "  result = getattr(ufunc, method)(*inputs, **kwargs)\n"
     ]
    },
    {
     "name": "stdout",
     "output_type": "stream",
     "text": [
      "[True, False, True, False, True] Done...\n"
     ]
    },
    {
     "name": "stderr",
     "output_type": "stream",
     "text": [
      "/home/alex/anaconda3/lib/python3.8/site-packages/pandas/core/arraylike.py:364: RuntimeWarning: invalid value encountered in sqrt\n",
      "  result = getattr(ufunc, method)(*inputs, **kwargs)\n"
     ]
    },
    {
     "name": "stdout",
     "output_type": "stream",
     "text": [
      "[True, False, True, False, False] Done...\n",
      "[False, True, False, True, False] Done...\n",
      "[False, True, False, False, False] Done...\n"
     ]
    },
    {
     "name": "stderr",
     "output_type": "stream",
     "text": [
      "/home/alex/anaconda3/lib/python3.8/site-packages/pandas/core/arraylike.py:364: RuntimeWarning: invalid value encountered in sqrt\n",
      "  result = getattr(ufunc, method)(*inputs, **kwargs)\n"
     ]
    },
    {
     "name": "stdout",
     "output_type": "stream",
     "text": [
      "[False, True, False, True, True] Done...\n",
      "[False, True, False, False, True] Done...\n"
     ]
    },
    {
     "name": "stderr",
     "output_type": "stream",
     "text": [
      "/home/alex/anaconda3/lib/python3.8/site-packages/pandas/core/arraylike.py:364: RuntimeWarning: invalid value encountered in sqrt\n",
      "  result = getattr(ufunc, method)(*inputs, **kwargs)\n",
      "/home/alex/anaconda3/lib/python3.8/site-packages/pandas/core/arraylike.py:364: RuntimeWarning: invalid value encountered in sqrt\n",
      "  result = getattr(ufunc, method)(*inputs, **kwargs)\n",
      "/home/alex/anaconda3/lib/python3.8/site-packages/pandas/core/arraylike.py:364: RuntimeWarning: invalid value encountered in sqrt\n",
      "  result = getattr(ufunc, method)(*inputs, **kwargs)\n"
     ]
    },
    {
     "name": "stdout",
     "output_type": "stream",
     "text": [
      "[False, False, True, True, True] Done...\n"
     ]
    },
    {
     "name": "stderr",
     "output_type": "stream",
     "text": [
      "/home/alex/anaconda3/lib/python3.8/site-packages/pandas/core/arraylike.py:364: RuntimeWarning: invalid value encountered in sqrt\n",
      "  result = getattr(ufunc, method)(*inputs, **kwargs)\n",
      "/home/alex/anaconda3/lib/python3.8/site-packages/pandas/core/arraylike.py:364: RuntimeWarning: invalid value encountered in sqrt\n",
      "  result = getattr(ufunc, method)(*inputs, **kwargs)\n"
     ]
    },
    {
     "name": "stdout",
     "output_type": "stream",
     "text": [
      "[False, False, True, True, False] Done...\n"
     ]
    },
    {
     "name": "stderr",
     "output_type": "stream",
     "text": [
      "/home/alex/anaconda3/lib/python3.8/site-packages/pandas/core/arraylike.py:364: RuntimeWarning: invalid value encountered in sqrt\n",
      "  result = getattr(ufunc, method)(*inputs, **kwargs)\n",
      "/home/alex/anaconda3/lib/python3.8/site-packages/pandas/core/arraylike.py:364: RuntimeWarning: invalid value encountered in sqrt\n",
      "  result = getattr(ufunc, method)(*inputs, **kwargs)\n"
     ]
    },
    {
     "name": "stdout",
     "output_type": "stream",
     "text": [
      "[False, False, True, False, True] Done...\n"
     ]
    },
    {
     "name": "stderr",
     "output_type": "stream",
     "text": [
      "/home/alex/anaconda3/lib/python3.8/site-packages/pandas/core/arraylike.py:364: RuntimeWarning: invalid value encountered in sqrt\n",
      "  result = getattr(ufunc, method)(*inputs, **kwargs)\n",
      "/home/alex/anaconda3/lib/python3.8/site-packages/pandas/core/arraylike.py:364: RuntimeWarning: invalid value encountered in sqrt\n",
      "  result = getattr(ufunc, method)(*inputs, **kwargs)\n"
     ]
    },
    {
     "name": "stdout",
     "output_type": "stream",
     "text": [
      "[False, False, True, False, False] Done...\n",
      "[False, False, False, True, True] Done...\n",
      "[False, False, False, True, False] Done...\n",
      "[False, False, False, False, False] Done...\n",
      "[False, False, False, False, True] Done...\n"
     ]
    },
    {
     "ename": "ValueError",
     "evalue": "Digital filter critical frequencies must be 0 < Wn < fs/2 (fs=118.37590876641497 -> fs/2=59.18795438320748)",
     "output_type": "error",
     "traceback": [
      "\u001b[0;31m---------------------------------------------------------------------------\u001b[0m",
      "\u001b[0;31mRemoteTraceback\u001b[0m                           Traceback (most recent call last)",
      "\u001b[0;31mRemoteTraceback\u001b[0m: \n\"\"\"\nTraceback (most recent call last):\n  File \"/home/alex/anaconda3/lib/python3.8/multiprocessing/pool.py\", line 125, in worker\n    result = (True, func(*args, **kwds))\n  File \"/home/alex/anaconda3/lib/python3.8/multiprocessing/pool.py\", line 48, in mapstar\n    return list(map(*args))\n  File \"/tmp/ipykernel_12847/1140770599.py\", line 11, in run_in_process\n    sol_= minimize(cost_global_,X0_id_globale,args=(params_el))\n  File \"/home/alex/anaconda3/lib/python3.8/site-packages/scipy/optimize/_minimize.py\", line 618, in minimize\n    return _minimize_bfgs(fun, x0, args, jac, callback, **options)\n  File \"/home/alex/anaconda3/lib/python3.8/site-packages/scipy/optimize/optimize.py\", line 1235, in _minimize_bfgs\n    _line_search_wolfe12(f, myfprime, xk, pk, gfk,\n  File \"/home/alex/anaconda3/lib/python3.8/site-packages/scipy/optimize/optimize.py\", line 1005, in _line_search_wolfe12\n    ret = line_search_wolfe1(f, fprime, xk, pk, gfk,\n  File \"/home/alex/anaconda3/lib/python3.8/site-packages/scipy/optimize/linesearch.py\", line 96, in line_search_wolfe1\n    stp, fval, old_fval = scalar_search_wolfe1(\n  File \"/home/alex/anaconda3/lib/python3.8/site-packages/scipy/optimize/linesearch.py\", line 172, in scalar_search_wolfe1\n    phi1 = phi(stp)\n  File \"/home/alex/anaconda3/lib/python3.8/site-packages/scipy/optimize/linesearch.py\", line 84, in phi\n    return f(xk + s*pk, *args)\n  File \"/home/alex/anaconda3/lib/python3.8/site-packages/scipy/optimize/_differentiable_functions.py\", line 249, in fun\n    self._update_fun()\n  File \"/home/alex/anaconda3/lib/python3.8/site-packages/scipy/optimize/_differentiable_functions.py\", line 233, in _update_fun\n    self._update_fun_impl()\n  File \"/home/alex/anaconda3/lib/python3.8/site-packages/scipy/optimize/_differentiable_functions.py\", line 137, in update_fun\n    self.f = fun_wrapped(self.x)\n  File \"/home/alex/anaconda3/lib/python3.8/site-packages/scipy/optimize/_differentiable_functions.py\", line 134, in fun_wrapped\n    return fun(np.copy(x), *args)\n  File \"/tmp/ipykernel_12847/2957862452.py\", line 93, in cost_global_\n    Y=compute_acc_identification_globale(ct1,\n  File \"/tmp/ipykernel_12847/2957862452.py\", line 62, in compute_acc_identification_globale\n    omegas = compute_omegas(df,kt).reshape((len(df),6)) if dyn_motors else np.array([df['omega_c[%i]'%(i+1)] for i in range(n_propellers)]).T\n  File \"/tmp/ipykernel_12847/2957862452.py\", line 20, in compute_omegas\n    b, a = scipy.signal.butter(1, 1./(2*np.pi)*kt,analog= False,fs=1./2.0/df['dt'].mean())\n  File \"/home/alex/anaconda3/lib/python3.8/site-packages/scipy/signal/filter_design.py\", line 2956, in butter\n    return iirfilter(N, Wn, btype=btype, analog=analog,\n  File \"/home/alex/anaconda3/lib/python3.8/site-packages/scipy/signal/filter_design.py\", line 2422, in iirfilter\n    raise ValueError(\"Digital filter critical frequencies \"\nValueError: Digital filter critical frequencies must be 0 < Wn < fs/2 (fs=118.37590876641497 -> fs/2=59.18795438320748)\n\"\"\"",
      "\nThe above exception was the direct cause of the following exception:\n",
      "\u001b[0;31mValueError\u001b[0m                                Traceback (most recent call last)",
      "\u001b[0;32m/tmp/ipykernel_12847/1140770599.py\u001b[0m in \u001b[0;36m<module>\u001b[0;34m\u001b[0m\n\u001b[1;32m     27\u001b[0m \u001b[0;34m\u001b[0m\u001b[0m\n\u001b[1;32m     28\u001b[0m     \u001b[0mpool\u001b[0m \u001b[0;34m=\u001b[0m \u001b[0mPool\u001b[0m\u001b[0;34m(\u001b[0m\u001b[0mprocesses\u001b[0m\u001b[0;34m=\u001b[0m\u001b[0;36m6\u001b[0m\u001b[0;34m)\u001b[0m\u001b[0;34m\u001b[0m\u001b[0;34m\u001b[0m\u001b[0m\n\u001b[0;32m---> 29\u001b[0;31m     \u001b[0mpool\u001b[0m\u001b[0;34m.\u001b[0m\u001b[0mmap\u001b[0m\u001b[0;34m(\u001b[0m\u001b[0mrun_in_process\u001b[0m\u001b[0;34m,\u001b[0m \u001b[0mparams\u001b[0m\u001b[0;34m)\u001b[0m\u001b[0;34m\u001b[0m\u001b[0;34m\u001b[0m\u001b[0m\n\u001b[0m\u001b[1;32m     30\u001b[0m \u001b[0;34m\u001b[0m\u001b[0m\n\u001b[1;32m     31\u001b[0m \u001b[0;34m\u001b[0m\u001b[0m\n",
      "\u001b[0;32m~/anaconda3/lib/python3.8/multiprocessing/pool.py\u001b[0m in \u001b[0;36mmap\u001b[0;34m(self, func, iterable, chunksize)\u001b[0m\n\u001b[1;32m    362\u001b[0m         \u001b[0;32min\u001b[0m \u001b[0ma\u001b[0m \u001b[0mlist\u001b[0m \u001b[0mthat\u001b[0m \u001b[0;32mis\u001b[0m \u001b[0mreturned\u001b[0m\u001b[0;34m.\u001b[0m\u001b[0;34m\u001b[0m\u001b[0;34m\u001b[0m\u001b[0m\n\u001b[1;32m    363\u001b[0m         '''\n\u001b[0;32m--> 364\u001b[0;31m         \u001b[0;32mreturn\u001b[0m \u001b[0mself\u001b[0m\u001b[0;34m.\u001b[0m\u001b[0m_map_async\u001b[0m\u001b[0;34m(\u001b[0m\u001b[0mfunc\u001b[0m\u001b[0;34m,\u001b[0m \u001b[0miterable\u001b[0m\u001b[0;34m,\u001b[0m \u001b[0mmapstar\u001b[0m\u001b[0;34m,\u001b[0m \u001b[0mchunksize\u001b[0m\u001b[0;34m)\u001b[0m\u001b[0;34m.\u001b[0m\u001b[0mget\u001b[0m\u001b[0;34m(\u001b[0m\u001b[0;34m)\u001b[0m\u001b[0;34m\u001b[0m\u001b[0;34m\u001b[0m\u001b[0m\n\u001b[0m\u001b[1;32m    365\u001b[0m \u001b[0;34m\u001b[0m\u001b[0m\n\u001b[1;32m    366\u001b[0m     \u001b[0;32mdef\u001b[0m \u001b[0mstarmap\u001b[0m\u001b[0;34m(\u001b[0m\u001b[0mself\u001b[0m\u001b[0;34m,\u001b[0m \u001b[0mfunc\u001b[0m\u001b[0;34m,\u001b[0m \u001b[0miterable\u001b[0m\u001b[0;34m,\u001b[0m \u001b[0mchunksize\u001b[0m\u001b[0;34m=\u001b[0m\u001b[0;32mNone\u001b[0m\u001b[0;34m)\u001b[0m\u001b[0;34m:\u001b[0m\u001b[0;34m\u001b[0m\u001b[0;34m\u001b[0m\u001b[0m\n",
      "\u001b[0;32m~/anaconda3/lib/python3.8/multiprocessing/pool.py\u001b[0m in \u001b[0;36mget\u001b[0;34m(self, timeout)\u001b[0m\n\u001b[1;32m    766\u001b[0m             \u001b[0;32mreturn\u001b[0m \u001b[0mself\u001b[0m\u001b[0;34m.\u001b[0m\u001b[0m_value\u001b[0m\u001b[0;34m\u001b[0m\u001b[0;34m\u001b[0m\u001b[0m\n\u001b[1;32m    767\u001b[0m         \u001b[0;32melse\u001b[0m\u001b[0;34m:\u001b[0m\u001b[0;34m\u001b[0m\u001b[0;34m\u001b[0m\u001b[0m\n\u001b[0;32m--> 768\u001b[0;31m             \u001b[0;32mraise\u001b[0m \u001b[0mself\u001b[0m\u001b[0;34m.\u001b[0m\u001b[0m_value\u001b[0m\u001b[0;34m\u001b[0m\u001b[0;34m\u001b[0m\u001b[0m\n\u001b[0m\u001b[1;32m    769\u001b[0m \u001b[0;34m\u001b[0m\u001b[0m\n\u001b[1;32m    770\u001b[0m     \u001b[0;32mdef\u001b[0m \u001b[0m_set\u001b[0m\u001b[0;34m(\u001b[0m\u001b[0mself\u001b[0m\u001b[0;34m,\u001b[0m \u001b[0mi\u001b[0m\u001b[0;34m,\u001b[0m \u001b[0mobj\u001b[0m\u001b[0;34m)\u001b[0m\u001b[0;34m:\u001b[0m\u001b[0;34m\u001b[0m\u001b[0;34m\u001b[0m\u001b[0m\n",
      "\u001b[0;31mValueError\u001b[0m: Digital filter critical frequencies must be 0 < Wn < fs/2 (fs=118.37590876641497 -> fs/2=59.18795438320748)"
     ]
    },
    {
     "name": "stderr",
     "output_type": "stream",
     "text": [
      "Process ForkPoolWorker-3:\n",
      "Process ForkPoolWorker-5:\n",
      "Process ForkPoolWorker-4:\n",
      "Process ForkPoolWorker-1:\n",
      "Process ForkPoolWorker-2:\n",
      "Process ForkPoolWorker-6:\n"
     ]
    }
   ],
   "source": [
    "# %% global acc opti: multi thread run\n",
    "from multiprocessing import Pool\n",
    "import time\n",
    "\n",
    "def run_in_process(params_el):\n",
    "    \n",
    "    acc_data_list=[]\n",
    "\n",
    "    t0=time.time()\n",
    "    \n",
    "    sol_= minimize(cost_global_,X0_id_globale,args=(params_el))\n",
    "    score_rms,score_x,score_y,score_z = cost_global_(sol_['x'],params_el,rms_score=True)\n",
    "    \n",
    "    optim_duration = time.time()-t0\n",
    "    \n",
    "    acc_data_list.append(np.r_[params_el,sol_['x'],sol_['fun'],score_rms,score_x,score_y,score_z,optim_duration])\n",
    "    \n",
    "    df_res =  pd.DataFrame(data=acc_data_list,columns=headers_df)   \n",
    "    sname=''\n",
    "    for i in params_el:\n",
    "        sname=sname+'T' if i else sname+'F' \n",
    "    df_res.to_csv('./results/acc/acc_'+sname+\".csv\")\n",
    "    print(params_el,\"Done...\")\n",
    "    return True\n",
    "    \n",
    "if __name__ == '__main__':\n",
    "\n",
    "    pool = Pool(processes=6)\n",
    "    pool.map(run_in_process, params)\n",
    "\n",
    "    "
   ]
  },
  {
   "cell_type": "code",
   "execution_count": null,
   "id": "9289e436-bc09-4ef4-aa18-8d9cb32b1ad1",
   "metadata": {},
   "outputs": [],
   "source": []
  },
  {
   "cell_type": "code",
   "execution_count": null,
   "id": "baa8b3ae-3665-4dfb-ad36-13f44d29f85c",
   "metadata": {},
   "outputs": [],
   "source": []
  }
 ],
 "metadata": {
  "kernelspec": {
   "display_name": "Python 3 (ipykernel)",
   "language": "python",
   "name": "python3"
  },
  "language_info": {
   "codemirror_mode": {
    "name": "ipython",
    "version": 3
   },
   "file_extension": ".py",
   "mimetype": "text/x-python",
   "name": "python",
   "nbconvert_exporter": "python",
   "pygments_lexer": "ipython3",
   "version": "3.8.2"
  }
 },
 "nbformat": 4,
 "nbformat_minor": 5
}
